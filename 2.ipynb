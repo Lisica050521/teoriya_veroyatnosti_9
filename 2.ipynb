{
 "cells": [
  {
   "attachments": {},
   "cell_type": "markdown",
   "metadata": {},
   "source": [
    "Посчитать коэффициент линейной регрессии при заработной плате (zp), используя градиентный спуск (без intercept)."
   ]
  },
  {
   "cell_type": "code",
   "execution_count": 2,
   "metadata": {},
   "outputs": [
    {
     "name": "stdout",
     "output_type": "stream",
     "text": [
      "Итерация: 0, Ошибка: 534426.9, a: 0.0014198000000000001, b: 0.16228340000000002\n",
      "Итерация: 100, Ошибка: 58290.11468720933, a: 0.06352701165264334, b: 5.53907267139291\n",
      "Итерация: 200, Ошибка: 56503.62789478378, a: 0.08847711289407637, b: 5.867800050544907\n",
      "Итерация: 300, Ошибка: 56491.88742250524, a: 0.11115334533167748, b: 5.887751704659264\n",
      "Итерация: 400, Ошибка: 56486.78754251583, a: 0.13368941869388748, b: 5.888816424940228\n",
      "Итерация: 500, Ошибка: 56481.71302075434, a: 0.1562158460516812, b: 5.888725892552282\n",
      "Итерация: 600, Ошибка: 56476.63910677028, a: 0.17874061057657134, b: 5.888564704507622\n",
      "Итерация: 700, Ошибка: 56471.56570790964, a: 0.20126420063110484, b: 5.8883992025513585\n",
      "Итерация: 800, Ошибка: 56466.492823773726, a: 0.22378664614146374, b: 5.888233444620853\n",
      "Итерация: 900, Ошибка: 56461.42045430907, a: 0.24630794899256553, b: 5.888067678928305\n",
      "Итерация: 1000, Ошибка: 56456.34859946334, a: 0.26882810935411966, b: 5.887901920655762\n"
     ]
    }
   ],
   "source": [
    "import numpy as np\n",
    "import matplotlib.pyplot as plt\n",
    "\n",
    "zp = np.array([35, 45, 190, 200, 40, 70, 54, 150, 120, 110])\n",
    "ks = np.array([401, 574, 874, 919, 459, 739, 653, 902, 746, 832])\n",
    "\n",
    "\n",
    "def mse(y, y_pred):\n",
    "    n = len(y)\n",
    "    return np.sum((y - y_pred) ** 2) / n\n",
    "\n",
    "n = len(zp)\n",
    "a = 0\n",
    "b = 0\n",
    "lr = 1e-06\n",
    "\n",
    "\n",
    "n_iterations = 1001\n",
    "\n",
    "for i in range(n_iterations):\n",
    "    y_pred = a + b * zp\n",
    "    d_a = (-2/n) * np.sum(ks - y_pred)\n",
    "    d_b = (-2/n) * np.sum((ks - y_pred) * zp)\n",
    "    a = a - lr * d_a\n",
    "    b = b - lr * d_b\n",
    "    error = mse(ks, y_pred)\n",
    "    if i % 100 == 0:\n",
    "        print(f'Итерация: {i}, Ошибка: {error}, a: {a}, b: {b}')"
   ]
  },
  {
   "attachments": {},
   "cell_type": "markdown",
   "metadata": {},
   "source": [
    "Коэффициент линейной регрессии при заработной плате (zp), используя градиентный спуск (без intercept) ~ 5.89\n",
    "\n",
    "Произвести вычисления как в пункте 2, но с вычислением intercept. Учесть, что изменение коэффициентов должно производиться на каждом шаге одновременно (то есть изменение одного коэффициента не должно влиять на изменение другого во время одной итерации)."
   ]
  },
  {
   "cell_type": "code",
   "execution_count": 3,
   "metadata": {},
   "outputs": [
    {
     "name": "stdout",
     "output_type": "stream",
     "text": [
      "Итерация 0, a=0.169966, b=8.07468054476, mse=122318.06397097567\n",
      "Итерация 50000, a=319.27767648420047, b=3.5398324356503275, mse=10427.569111705801\n",
      "Итерация 100000, a=409.0442373734796, b=2.879127619051743, mse=6783.521961452364\n",
      "Итерация 150000, a=434.29473705519484, b=2.693277491833349, mse=6495.188684804794\n",
      "Итерация 200000, a=441.3974680483413, b=2.6409995775222037, mse=6472.374468908443\n",
      "Итерация 250000, a=443.39540029510493, b=2.62629428586797, mse=6470.569306309746\n",
      "Итерация 300000, a=443.95740007610897, b=2.622157823932053, mse=6470.426473787141\n",
      "Итерация 350000, a=444.1154853937451, b=2.6209942756156086, mse=6470.415172240385\n",
      "Итерация 400000, a=444.159953325044, b=2.6206669802831115, mse=6470.414278011555\n",
      "Итерация 450000, a=444.1724617410292, b=2.6205749151465225, mse=6470.414207256183\n",
      "Итерация 500000, a=444.1759802422447, b=2.6205490180788695, mse=6470.414201657699\n",
      "Итерация 520164, a=444.17653163778414, b=2.62054495966686, mse=6470.414201349592,\n",
      "Достигнут минимум.\n",
      "a=444.17653163778414\n",
      "b=2.62054495966686\n"
     ]
    }
   ],
   "source": [
    "def _mse_ab(a,b, x, y):\n",
    "    return np.sum(((a+b*x)-y)**2)/len(x)\n",
    "\n",
    "def _mse_pa(a,b,x,y): \n",
    "    return 2*np.sum((a+b*x)-y)/len(x)\n",
    "\n",
    "def _mse_pb(a,b,x,y):\n",
    "    return 2*np.sum(((a+b*x)-y)*x)/len(x)\n",
    "\n",
    "alpha=5e-05\n",
    "\n",
    "b=0.1\n",
    "a=0.1\n",
    "mseab_min=_mse_ab(a,b,zp,ks)\n",
    "i_min=1\n",
    "b_min=b\n",
    "a_min=a\n",
    "   \n",
    "for i in range(1000000):\n",
    "    a-=alpha*_mse_pa(a,b,zp,ks)\n",
    "    b-=alpha*_mse_pb(a,b,zp,ks)\n",
    "    if i%50000==0:\n",
    "        print(f'Итерация {i}, a={a}, b={b}, mse={_mse_ab(a, b, zp,ks)}')\n",
    "    if _mse_ab(a, b,zp,ks)>mseab_min:\n",
    "        print(f'Итерация {i_min}, a={a_min}, b={b_min}, mse={mseab_min},\\nДостигнут минимум.')\n",
    "        break\n",
    "    else:\n",
    "        mseab_min=_mse_ab(a, b,zp,ks)\n",
    "        i_min=i\n",
    "        b_min=b\n",
    "        a_min=a\n",
    "print(f'a={a_min}\\nb={b_min}')"
   ]
  },
  {
   "cell_type": "code",
   "execution_count": 4,
   "metadata": {},
   "outputs": [
    {
     "data": {
      "image/png": "[encoded data removed]",
      "text/plain": [
       "<Figure size 640x480 with 1 Axes>"
      ]
     },
     "metadata": {},
     "output_type": "display_data"
    }
   ],
   "source": [
    "plt.scatter(zp,ks)\n",
    "plt.plot(zp,a_min+b_min*zp, c='r')\n",
    "plt.show()"
   ]
  }
 ],
 "metadata": {
  "kernelspec": {
   "display_name": "Python 3",
   "language": "python",
   "name": "python3"
  },
  "language_info": {
   "codemirror_mode": {
    "name": "ipython",
    "version": 3
   },
   "file_extension": ".py",
   "mimetype": "text/x-python",
   "name": "python",
   "nbconvert_exporter": "python",
   "pygments_lexer": "ipython3",
   "version": "3.11.1"
  },
  "orig_nbformat": 4
 },
 "nbformat": 4,
 "nbformat_minor": 2
}
